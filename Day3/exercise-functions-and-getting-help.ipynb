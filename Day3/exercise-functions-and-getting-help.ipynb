{
 "cells": [
  {
   "cell_type": "markdown",
   "id": "71262d3e",
   "metadata": {
    "papermill": {
     "duration": 0.016168,
     "end_time": "2021-08-05T06:16:30.040513",
     "exception": false,
     "start_time": "2021-08-05T06:16:30.024345",
     "status": "completed"
    },
    "tags": []
   },
   "source": [
    "**This notebook is an exercise in the [Python](https://www.kaggle.com/learn/python) course.  You can reference the tutorial at [this link](https://www.kaggle.com/colinmorris/functions-and-getting-help).**\n",
    "\n",
    "---\n"
   ]
  },
  {
   "cell_type": "markdown",
   "id": "a36aa479",
   "metadata": {
    "papermill": {
     "duration": 0.014434,
     "end_time": "2021-08-05T06:16:30.073356",
     "exception": false,
     "start_time": "2021-08-05T06:16:30.058922",
     "status": "completed"
    },
    "tags": []
   },
   "source": [
    "Functions are powerful. Try writing some yourself.\n",
    "\n",
    "As before, don't forget to run the setup code below before jumping into question 1."
   ]
  },
  {
   "cell_type": "code",
   "execution_count": 1,
   "id": "0b619711",
   "metadata": {
    "_kg_hide-input": true,
    "_kg_hide-output": true,
    "execution": {
     "iopub.execute_input": "2021-08-05T06:16:30.109130Z",
     "iopub.status.busy": "2021-08-05T06:16:30.107652Z",
     "iopub.status.idle": "2021-08-05T06:16:30.312237Z",
     "shell.execute_reply": "2021-08-05T06:16:30.311026Z",
     "shell.execute_reply.started": "2021-08-05T06:05:32.973510Z"
    },
    "papermill": {
     "duration": 0.22444,
     "end_time": "2021-08-05T06:16:30.312523",
     "exception": false,
     "start_time": "2021-08-05T06:16:30.088083",
     "status": "completed"
    },
    "tags": []
   },
   "outputs": [
    {
     "name": "stdout",
     "output_type": "stream",
     "text": [
      "Setup complete.\n"
     ]
    }
   ],
   "source": [
    "# SETUP. You don't need to worry for now about what this code does or how it works.\n",
    "from learntools.core import binder; binder.bind(globals())\n",
    "from learntools.python.ex2 import *\n",
    "print('Setup complete.')"
   ]
  },
  {
   "cell_type": "markdown",
   "id": "8dcb5832",
   "metadata": {
    "papermill": {
     "duration": 0.018181,
     "end_time": "2021-08-05T06:16:30.352740",
     "exception": false,
     "start_time": "2021-08-05T06:16:30.334559",
     "status": "completed"
    },
    "tags": []
   },
   "source": [
    "# 1.\n",
    "\n",
    "Complete the body of the following function according to its docstring.\n",
    "\n",
    "HINT: Python has a built-in function `round`."
   ]
  },
  {
   "cell_type": "code",
   "execution_count": 2,
   "id": "68eb3e0e",
   "metadata": {
    "execution": {
     "iopub.execute_input": "2021-08-05T06:16:30.400444Z",
     "iopub.status.busy": "2021-08-05T06:16:30.399596Z",
     "iopub.status.idle": "2021-08-05T06:16:30.405193Z",
     "shell.execute_reply": "2021-08-05T06:16:30.404582Z",
     "shell.execute_reply.started": "2021-08-05T06:08:20.173089Z"
    },
    "papermill": {
     "duration": 0.034137,
     "end_time": "2021-08-05T06:16:30.405341",
     "exception": false,
     "start_time": "2021-08-05T06:16:30.371204",
     "status": "completed"
    },
    "tags": []
   },
   "outputs": [
    {
     "data": {
      "application/javascript": [
       "parent.postMessage({\"jupyterEvent\": \"custom.exercise_interaction\", \"data\": {\"outcomeType\": 1, \"valueTowardsCompletion\": 0.16666666666666666, \"interactionType\": 1, \"questionType\": 2, \"questionId\": \"1_RoundFunctionProblem\", \"learnToolsVersion\": \"0.3.4\", \"failureMessage\": \"\", \"exceptionClass\": \"\", \"trace\": \"\"}}, \"*\")"
      ],
      "text/plain": [
       "<IPython.core.display.Javascript object>"
      ]
     },
     "metadata": {},
     "output_type": "display_data"
    },
    {
     "data": {
      "text/markdown": [
       "<span style=\"color:#33cc33\">Correct</span>"
      ],
      "text/plain": [
       "Correct"
      ]
     },
     "metadata": {},
     "output_type": "display_data"
    }
   ],
   "source": [
    "def round_to_two_places(num):\n",
    "    \"\"\"Return the given number rounded to two decimal places. \n",
    "    \n",
    "    >>> round_to_two_places(3.14159)\n",
    "    3.14\n",
    "    \"\"\"\n",
    "    # Replace this body with your own code.\n",
    "    # (\"pass\" is a keyword that does literally nothing. We used it as a placeholder\n",
    "    # because after we begin a code block, Python requires at least one line of code)\n",
    "    return round(num, 2)\n",
    "\n",
    "# Check your answer\n",
    "q1.check()"
   ]
  },
  {
   "cell_type": "code",
   "execution_count": 3,
   "id": "e7d32db7",
   "metadata": {
    "execution": {
     "iopub.execute_input": "2021-08-05T06:16:30.444950Z",
     "iopub.status.busy": "2021-08-05T06:16:30.443657Z",
     "iopub.status.idle": "2021-08-05T06:16:30.453798Z",
     "shell.execute_reply": "2021-08-05T06:16:30.453078Z",
     "shell.execute_reply.started": "2021-08-05T06:08:21.240848Z"
    },
    "papermill": {
     "duration": 0.032845,
     "end_time": "2021-08-05T06:16:30.453956",
     "exception": false,
     "start_time": "2021-08-05T06:16:30.421111",
     "status": "completed"
    },
    "tags": []
   },
   "outputs": [
    {
     "data": {
      "application/javascript": [
       "parent.postMessage({\"jupyterEvent\": \"custom.exercise_interaction\", \"data\": {\"interactionType\": 2, \"questionType\": 2, \"questionId\": \"1_RoundFunctionProblem\", \"learnToolsVersion\": \"0.3.4\", \"valueTowardsCompletion\": 0.0, \"failureMessage\": \"\", \"exceptionClass\": \"\", \"trace\": \"\", \"outcomeType\": 4}}, \"*\")"
      ],
      "text/plain": [
       "<IPython.core.display.Javascript object>"
      ]
     },
     "metadata": {},
     "output_type": "display_data"
    },
    {
     "data": {
      "text/markdown": [
       "<span style=\"color:#3366cc\">Hint:</span> Run `help(round)` in the console (or in a code cell) to learn more about the round function. You'll need to use the function's optional second argument."
      ],
      "text/plain": [
       "Hint: Run `help(round)` in the console (or in a code cell) to learn more about the round function. You'll need to use the function's optional second argument."
      ]
     },
     "metadata": {},
     "output_type": "display_data"
    },
    {
     "data": {
      "application/javascript": [
       "parent.postMessage({\"jupyterEvent\": \"custom.exercise_interaction\", \"data\": {\"interactionType\": 3, \"questionType\": 2, \"questionId\": \"1_RoundFunctionProblem\", \"learnToolsVersion\": \"0.3.4\", \"valueTowardsCompletion\": 0.0, \"failureMessage\": \"\", \"exceptionClass\": \"\", \"trace\": \"\", \"outcomeType\": 4}}, \"*\")"
      ],
      "text/plain": [
       "<IPython.core.display.Javascript object>"
      ]
     },
     "metadata": {},
     "output_type": "display_data"
    },
    {
     "data": {
      "text/markdown": [
       "<span style=\"color:#33cc99\">Solution:</span> \n",
       "```python\n",
       "return round(num, 2)\n",
       "```"
      ],
      "text/plain": [
       "Solution: \n",
       "```python\n",
       "return round(num, 2)\n",
       "```"
      ]
     },
     "metadata": {},
     "output_type": "display_data"
    }
   ],
   "source": [
    "# Uncomment the following for a hint\n",
    "q1.hint()\n",
    "# Or uncomment the following to peek at the solution\n",
    "q1.solution()"
   ]
  },
  {
   "cell_type": "markdown",
   "id": "2c54ebe0",
   "metadata": {
    "papermill": {
     "duration": 0.017319,
     "end_time": "2021-08-05T06:16:30.489145",
     "exception": false,
     "start_time": "2021-08-05T06:16:30.471826",
     "status": "completed"
    },
    "tags": []
   },
   "source": [
    "# 2.\n",
    "The help for `round` says that `ndigits` (the second argument) may be negative.\n",
    "What do you think will happen when it is? Try some examples in the following cell."
   ]
  },
  {
   "cell_type": "code",
   "execution_count": 4,
   "id": "97841aec",
   "metadata": {
    "execution": {
     "iopub.execute_input": "2021-08-05T06:16:30.531116Z",
     "iopub.status.busy": "2021-08-05T06:16:30.530225Z",
     "iopub.status.idle": "2021-08-05T06:16:30.534360Z",
     "shell.execute_reply": "2021-08-05T06:16:30.533441Z",
     "shell.execute_reply.started": "2021-08-05T06:10:19.377205Z"
    },
    "papermill": {
     "duration": 0.027512,
     "end_time": "2021-08-05T06:16:30.534545",
     "exception": false,
     "start_time": "2021-08-05T06:16:30.507033",
     "status": "completed"
    },
    "tags": []
   },
   "outputs": [
    {
     "name": "stdout",
     "output_type": "stream",
     "text": [
      "12350.0\n",
      "12300.0\n",
      "12000.0\n"
     ]
    }
   ],
   "source": [
    "# Put your test code here\n",
    "num = 12345.6\n",
    "print(round(num, -1))\n",
    "print(round(num, -2))\n",
    "print(round(num, -3))"
   ]
  },
  {
   "cell_type": "markdown",
   "id": "5d286e2b",
   "metadata": {
    "papermill": {
     "duration": 0.017785,
     "end_time": "2021-08-05T06:16:30.570629",
     "exception": false,
     "start_time": "2021-08-05T06:16:30.552844",
     "status": "completed"
    },
    "tags": []
   },
   "source": [
    "Can you think of a case where this would be useful?  Once you're ready, run the code cell below to see the answer and to receive credit for completing the problem."
   ]
  },
  {
   "cell_type": "code",
   "execution_count": 5,
   "id": "2e7392db",
   "metadata": {
    "execution": {
     "iopub.execute_input": "2021-08-05T06:16:30.613183Z",
     "iopub.status.busy": "2021-08-05T06:16:30.612494Z",
     "iopub.status.idle": "2021-08-05T06:16:30.618741Z",
     "shell.execute_reply": "2021-08-05T06:16:30.618186Z",
     "shell.execute_reply.started": "2021-08-05T06:09:33.460858Z"
    },
    "papermill": {
     "duration": 0.029347,
     "end_time": "2021-08-05T06:16:30.618903",
     "exception": false,
     "start_time": "2021-08-05T06:16:30.589556",
     "status": "completed"
    },
    "tags": []
   },
   "outputs": [
    {
     "data": {
      "application/javascript": [
       "parent.postMessage({\"jupyterEvent\": \"custom.exercise_interaction\", \"data\": {\"interactionType\": 3, \"questionType\": 4, \"questionId\": \"2_RoundNdigitsProblem\", \"learnToolsVersion\": \"0.3.4\", \"valueTowardsCompletion\": 0.0, \"failureMessage\": \"\", \"exceptionClass\": \"\", \"trace\": \"\", \"outcomeType\": 4}}, \"*\")"
      ],
      "text/plain": [
       "<IPython.core.display.Javascript object>"
      ]
     },
     "metadata": {},
     "output_type": "display_data"
    },
    {
     "data": {
      "text/markdown": [
       "<span style=\"color:#33cc99\">Solution:</span> As you've seen, `ndigits=-1` rounds to the nearest 10, `ndigits=-2` rounds to the nearest 100 and so on. Where might this be useful? Suppose we're dealing with large numbers:\n",
       "\n",
       "> The area of Finland is 338,424 km²  \n",
       "> The area of Greenland is 2,166,086 km²\n",
       "\n",
       "We probably don't care whether it's really 338,424, or 338,425, or 338,177. All those digits of accuracy are just distracting. We can chop them off by calling `round()` with `ndigits=-3`:\n",
       "\n",
       "> The area of Finland is 338,000 km²  \n",
       "> The area of Greenland is 2,166,000 km²\n",
       "\n",
       "(We'll talk about how we would get the commas later when we talk about string formatting :))\n"
      ],
      "text/plain": [
       "Solution: As you've seen, `ndigits=-1` rounds to the nearest 10, `ndigits=-2` rounds to the nearest 100 and so on. Where might this be useful? Suppose we're dealing with large numbers:\n",
       "\n",
       "> The area of Finland is 338,424 km²  \n",
       "> The area of Greenland is 2,166,086 km²\n",
       "\n",
       "We probably don't care whether it's really 338,424, or 338,425, or 338,177. All those digits of accuracy are just distracting. We can chop them off by calling `round()` with `ndigits=-3`:\n",
       "\n",
       "> The area of Finland is 338,000 km²  \n",
       "> The area of Greenland is 2,166,000 km²\n",
       "\n",
       "(We'll talk about how we would get the commas later when we talk about string formatting :))"
      ]
     },
     "metadata": {},
     "output_type": "display_data"
    }
   ],
   "source": [
    "# Check your answer (Run this code cell to receive credit!)\n",
    "q2.solution()"
   ]
  },
  {
   "cell_type": "markdown",
   "id": "780398ca",
   "metadata": {
    "papermill": {
     "duration": 0.018388,
     "end_time": "2021-08-05T06:16:30.656177",
     "exception": false,
     "start_time": "2021-08-05T06:16:30.637789",
     "status": "completed"
    },
    "tags": []
   },
   "source": [
    "# 3.\n",
    "\n",
    "In the previous exercise, the candy-sharing friends Alice, Bob and Carol tried to split candies evenly. For the sake of their friendship, any candies left over would be smashed. For example, if they collectively bring home 91 candies, they'll take 30 each and smash 1.\n",
    "\n",
    "Below is a simple function that will calculate the number of candies to smash for *any* number of total candies.\n",
    "\n",
    "Modify it so that it optionally takes a second argument representing the number of friends the candies are being split between. If no second argument is provided, it should assume 3 friends, as before.\n",
    "\n",
    "Update the docstring to reflect this new behaviour."
   ]
  },
  {
   "cell_type": "code",
   "execution_count": 6,
   "id": "7022a776",
   "metadata": {
    "execution": {
     "iopub.execute_input": "2021-08-05T06:16:30.699703Z",
     "iopub.status.busy": "2021-08-05T06:16:30.698984Z",
     "iopub.status.idle": "2021-08-05T06:16:30.704085Z",
     "shell.execute_reply": "2021-08-05T06:16:30.704635Z",
     "shell.execute_reply.started": "2021-08-05T06:12:32.408238Z"
    },
    "papermill": {
     "duration": 0.029954,
     "end_time": "2021-08-05T06:16:30.704807",
     "exception": false,
     "start_time": "2021-08-05T06:16:30.674853",
     "status": "completed"
    },
    "tags": []
   },
   "outputs": [
    {
     "data": {
      "application/javascript": [
       "parent.postMessage({\"jupyterEvent\": \"custom.exercise_interaction\", \"data\": {\"outcomeType\": 1, \"valueTowardsCompletion\": 0.16666666666666666, \"interactionType\": 1, \"questionType\": 2, \"questionId\": \"3_CandySmashingFunctionProblem\", \"learnToolsVersion\": \"0.3.4\", \"failureMessage\": \"\", \"exceptionClass\": \"\", \"trace\": \"\"}}, \"*\")"
      ],
      "text/plain": [
       "<IPython.core.display.Javascript object>"
      ]
     },
     "metadata": {},
     "output_type": "display_data"
    },
    {
     "data": {
      "text/markdown": [
       "<span style=\"color:#33cc33\">Correct</span>"
      ],
      "text/plain": [
       "Correct"
      ]
     },
     "metadata": {},
     "output_type": "display_data"
    }
   ],
   "source": [
    "def to_smash(total_candies, num=3):\n",
    "    \"\"\"Return the number of leftover candies that must be smashed after distributing\n",
    "    the given number of candies evenly between 3 friends.\n",
    "    \n",
    "    >>> to_smash(91)\n",
    "    1\n",
    "    \"\"\"\n",
    "    return total_candies % num\n",
    "\n",
    "# Check your answer\n",
    "q3.check()"
   ]
  },
  {
   "cell_type": "code",
   "execution_count": 7,
   "id": "1a7dcea1",
   "metadata": {
    "execution": {
     "iopub.execute_input": "2021-08-05T06:16:30.748688Z",
     "iopub.status.busy": "2021-08-05T06:16:30.748031Z",
     "iopub.status.idle": "2021-08-05T06:16:30.754533Z",
     "shell.execute_reply": "2021-08-05T06:16:30.754985Z",
     "shell.execute_reply.started": "2021-08-05T06:12:38.210097Z"
    },
    "papermill": {
     "duration": 0.030122,
     "end_time": "2021-08-05T06:16:30.755172",
     "exception": false,
     "start_time": "2021-08-05T06:16:30.725050",
     "status": "completed"
    },
    "tags": []
   },
   "outputs": [
    {
     "data": {
      "application/javascript": [
       "parent.postMessage({\"jupyterEvent\": \"custom.exercise_interaction\", \"data\": {\"interactionType\": 2, \"questionType\": 2, \"questionId\": \"3_CandySmashingFunctionProblem\", \"learnToolsVersion\": \"0.3.4\", \"valueTowardsCompletion\": 0.0, \"failureMessage\": \"\", \"exceptionClass\": \"\", \"trace\": \"\", \"outcomeType\": 4}}, \"*\")"
      ],
      "text/plain": [
       "<IPython.core.display.Javascript object>"
      ]
     },
     "metadata": {},
     "output_type": "display_data"
    },
    {
     "data": {
      "text/markdown": [
       "<span style=\"color:#3366cc\">Hint:</span> Refer to the section of the last tutorial notebook where we talked about default arguments"
      ],
      "text/plain": [
       "Hint: Refer to the section of the last tutorial notebook where we talked about default arguments"
      ]
     },
     "metadata": {},
     "output_type": "display_data"
    }
   ],
   "source": [
    "q3.hint()"
   ]
  },
  {
   "cell_type": "code",
   "execution_count": 8,
   "id": "15615a1a",
   "metadata": {
    "execution": {
     "iopub.execute_input": "2021-08-05T06:16:30.801263Z",
     "iopub.status.busy": "2021-08-05T06:16:30.800641Z",
     "iopub.status.idle": "2021-08-05T06:16:30.807927Z",
     "shell.execute_reply": "2021-08-05T06:16:30.807363Z",
     "shell.execute_reply.started": "2021-08-05T06:12:43.765018Z"
    },
    "papermill": {
     "duration": 0.032041,
     "end_time": "2021-08-05T06:16:30.808069",
     "exception": false,
     "start_time": "2021-08-05T06:16:30.776028",
     "status": "completed"
    },
    "tags": []
   },
   "outputs": [
    {
     "data": {
      "application/javascript": [
       "parent.postMessage({\"jupyterEvent\": \"custom.exercise_interaction\", \"data\": {\"interactionType\": 3, \"questionType\": 2, \"questionId\": \"3_CandySmashingFunctionProblem\", \"learnToolsVersion\": \"0.3.4\", \"valueTowardsCompletion\": 0.0, \"failureMessage\": \"\", \"exceptionClass\": \"\", \"trace\": \"\", \"outcomeType\": 4}}, \"*\")"
      ],
      "text/plain": [
       "<IPython.core.display.Javascript object>"
      ]
     },
     "metadata": {},
     "output_type": "display_data"
    },
    {
     "data": {
      "text/markdown": [
       "<span style=\"color:#33cc99\">Solution:</span> \n",
       "```python\n",
       "def to_smash(total_candies, n_friends=3):\n",
       "    return total_candies % n_friends\n",
       "```"
      ],
      "text/plain": [
       "Solution: \n",
       "```python\n",
       "def to_smash(total_candies, n_friends=3):\n",
       "    return total_candies % n_friends\n",
       "```"
      ]
     },
     "metadata": {},
     "output_type": "display_data"
    }
   ],
   "source": [
    "q3.solution()"
   ]
  },
  {
   "cell_type": "markdown",
   "id": "7834dc5c",
   "metadata": {
    "papermill": {
     "duration": 0.021496,
     "end_time": "2021-08-05T06:16:30.851536",
     "exception": false,
     "start_time": "2021-08-05T06:16:30.830040",
     "status": "completed"
    },
    "tags": []
   },
   "source": [
    "# 4. (Optional)\n",
    "\n",
    "It may not be fun, but reading and understanding error messages will be an important part of your Python career.\n",
    "\n",
    "Each code cell below contains some commented buggy code. For each cell...\n",
    "\n",
    "1. Read the code and predict what you think will happen when it's run.\n",
    "2. Then uncomment the code and run it to see what happens. (**Tip**: In the kernel editor, you can highlight several lines and press `ctrl`+`/` to toggle commenting.)\n",
    "3. Fix the code (so that it accomplishes its intended purpose without throwing an exception)\n",
    "\n",
    "<!-- TODO: should this be autochecked? Delta is probably pretty small. -->"
   ]
  },
  {
   "cell_type": "code",
   "execution_count": 9,
   "id": "2fa0b111",
   "metadata": {
    "execution": {
     "iopub.execute_input": "2021-08-05T06:16:30.901611Z",
     "iopub.status.busy": "2021-08-05T06:16:30.900645Z",
     "iopub.status.idle": "2021-08-05T06:16:30.904757Z",
     "shell.execute_reply": "2021-08-05T06:16:30.905210Z",
     "shell.execute_reply.started": "2021-08-05T06:14:00.796617Z"
    },
    "papermill": {
     "duration": 0.031931,
     "end_time": "2021-08-05T06:16:30.905396",
     "exception": false,
     "start_time": "2021-08-05T06:16:30.873465",
     "status": "completed"
    },
    "tags": []
   },
   "outputs": [
    {
     "data": {
      "text/plain": [
       "10.0"
      ]
     },
     "execution_count": 9,
     "metadata": {},
     "output_type": "execute_result"
    }
   ],
   "source": [
    "round_to_two_places(9.9999)"
   ]
  },
  {
   "cell_type": "code",
   "execution_count": 10,
   "id": "0a20f8d6",
   "metadata": {
    "execution": {
     "iopub.execute_input": "2021-08-05T06:16:30.955512Z",
     "iopub.status.busy": "2021-08-05T06:16:30.953225Z",
     "iopub.status.idle": "2021-08-05T06:16:30.959970Z",
     "shell.execute_reply": "2021-08-05T06:16:30.959356Z",
     "shell.execute_reply.started": "2021-08-05T06:15:25.969423Z"
    },
    "papermill": {
     "duration": 0.032644,
     "end_time": "2021-08-05T06:16:30.960122",
     "exception": false,
     "start_time": "2021-08-05T06:16:30.927478",
     "status": "completed"
    },
    "tags": []
   },
   "outputs": [
    {
     "name": "stdout",
     "output_type": "stream",
     "text": [
      "5\n"
     ]
    }
   ],
   "source": [
    "x = -10\n",
    "y = 5\n",
    "# Which of the two variables above has the smallest absolute value?\n",
    "smallest_abs = min(abs(x), abs(y))\n",
    "print(smallest_abs)"
   ]
  },
  {
   "cell_type": "code",
   "execution_count": 11,
   "id": "058fbcfa",
   "metadata": {
    "execution": {
     "iopub.execute_input": "2021-08-05T06:16:31.011678Z",
     "iopub.status.busy": "2021-08-05T06:16:31.010863Z",
     "iopub.status.idle": "2021-08-05T06:16:31.015477Z",
     "shell.execute_reply": "2021-08-05T06:16:31.014727Z",
     "shell.execute_reply.started": "2021-08-05T06:16:05.864592Z"
    },
    "papermill": {
     "duration": 0.032421,
     "end_time": "2021-08-05T06:16:31.015650",
     "exception": false,
     "start_time": "2021-08-05T06:16:30.983229",
     "status": "completed"
    },
    "tags": []
   },
   "outputs": [
    {
     "name": "stdout",
     "output_type": "stream",
     "text": [
      "5\n"
     ]
    }
   ],
   "source": [
    "def f(x):\n",
    "    y = abs(x)\n",
    "    return y\n",
    "\n",
    "print(f(5))"
   ]
  },
  {
   "cell_type": "markdown",
   "id": "1137ef0d",
   "metadata": {
    "papermill": {
     "duration": 0.022977,
     "end_time": "2021-08-05T06:16:31.063849",
     "exception": false,
     "start_time": "2021-08-05T06:16:31.040872",
     "status": "completed"
    },
    "tags": []
   },
   "source": [
    "# Keep Going\n",
    "\n",
    "Nice job with the code. Next up, you'll learn about *conditionals*, which you'll need to **[write interesting programs](https://www.kaggle.com/colinmorris/booleans-and-conditionals)**. "
   ]
  },
  {
   "cell_type": "markdown",
   "id": "cedb8d17",
   "metadata": {
    "papermill": {
     "duration": 0.022896,
     "end_time": "2021-08-05T06:16:31.110640",
     "exception": false,
     "start_time": "2021-08-05T06:16:31.087744",
     "status": "completed"
    },
    "tags": []
   },
   "source": [
    "---\n",
    "\n",
    "\n",
    "\n",
    "\n",
    "*Have questions or comments? Visit the [Learn Discussion forum](https://www.kaggle.com/learn-forum/161283) to chat with other Learners.*"
   ]
  }
 ],
 "metadata": {
  "kernelspec": {
   "display_name": "Python 3",
   "language": "python",
   "name": "python3"
  },
  "language_info": {
   "codemirror_mode": {
    "name": "ipython",
    "version": 3
   },
   "file_extension": ".py",
   "mimetype": "text/x-python",
   "name": "python",
   "nbconvert_exporter": "python",
   "pygments_lexer": "ipython3",
   "version": "3.7.10"
  },
  "papermill": {
   "default_parameters": {},
   "duration": 10.882158,
   "end_time": "2021-08-05T06:16:32.354406",
   "environment_variables": {},
   "exception": null,
   "input_path": "__notebook__.ipynb",
   "output_path": "__notebook__.ipynb",
   "parameters": {},
   "start_time": "2021-08-05T06:16:21.472248",
   "version": "2.3.3"
  }
 },
 "nbformat": 4,
 "nbformat_minor": 5
}
