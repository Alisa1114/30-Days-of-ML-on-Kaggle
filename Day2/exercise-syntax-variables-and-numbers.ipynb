{
 "cells": [
  {
   "cell_type": "markdown",
   "id": "47fec091",
   "metadata": {
    "papermill": {
     "duration": 0.022306,
     "end_time": "2021-08-04T06:09:16.555255",
     "exception": false,
     "start_time": "2021-08-04T06:09:16.532949",
     "status": "completed"
    },
    "tags": []
   },
   "source": [
    "**This notebook is an exercise in the [Python](https://www.kaggle.com/learn/python) course.  You can reference the tutorial at [this link](https://www.kaggle.com/colinmorris/hello-python).**\n",
    "\n",
    "---\n"
   ]
  },
  {
   "cell_type": "markdown",
   "id": "0dc9d53a",
   "metadata": {
    "papermill": {
     "duration": 0.021542,
     "end_time": "2021-08-04T06:09:16.597855",
     "exception": false,
     "start_time": "2021-08-04T06:09:16.576313",
     "status": "completed"
    },
    "tags": []
   },
   "source": [
    "Welcome to your first set of Python coding problems.  If this is your first time using Kaggle Notebooks, welcome! \n",
    "\n",
    "Notebooks are composed of blocks (called \"cells\") of text and code. Each of these is editable, though you'll mainly be editing the code cells to answer some questions.\n",
    "\n",
    "To get started, try running the code cell below (by pressing the ► button, or clicking on the cell and pressing ctrl+enter on your keyboard)."
   ]
  },
  {
   "cell_type": "code",
   "execution_count": 1,
   "id": "52f311e1",
   "metadata": {
    "execution": {
     "iopub.execute_input": "2021-08-04T06:09:16.644815Z",
     "iopub.status.busy": "2021-08-04T06:09:16.643564Z",
     "iopub.status.idle": "2021-08-04T06:09:16.656143Z",
     "shell.execute_reply": "2021-08-04T06:09:16.655499Z",
     "shell.execute_reply.started": "2021-08-04T05:27:16.226802Z"
    },
    "papermill": {
     "duration": 0.037455,
     "end_time": "2021-08-04T06:09:16.656330",
     "exception": false,
     "start_time": "2021-08-04T06:09:16.618875",
     "status": "completed"
    },
    "tags": []
   },
   "outputs": [
    {
     "name": "stdout",
     "output_type": "stream",
     "text": [
      "You've successfully run some Python code\n",
      "Congratulations!\n",
      "Yes this is kaggle.\n"
     ]
    }
   ],
   "source": [
    "print(\"You've successfully run some Python code\")\n",
    "print(\"Congratulations!\")\n",
    "print(\"Yes this is kaggle.\")"
   ]
  },
  {
   "cell_type": "markdown",
   "id": "5c4d37e0",
   "metadata": {
    "papermill": {
     "duration": 0.021366,
     "end_time": "2021-08-04T06:09:16.699340",
     "exception": false,
     "start_time": "2021-08-04T06:09:16.677974",
     "status": "completed"
    },
    "tags": []
   },
   "source": [
    "Try adding another line of code in the cell above and re-running it. \n",
    "\n",
    "Now let's get a little fancier:  Add a new code cell by clicking on an existing code cell, hitting the escape key, and then hitting the `a` or `b` key.  The `a` key will add a cell above the current cell, and `b` adds a cell below.\n",
    "\n",
    "Great! Now you know how to use Notebooks.\n",
    "\n",
    "Each hands-on exercise starts by setting up our feedback and code checking mechanism. Run the code cell below to do that. Then you'll be ready to move on to question 0."
   ]
  },
  {
   "cell_type": "code",
   "execution_count": 2,
   "id": "9b20b16f",
   "metadata": {
    "_kg_hide-input": true,
    "_kg_hide-output": true,
    "execution": {
     "iopub.execute_input": "2021-08-04T06:09:16.748425Z",
     "iopub.status.busy": "2021-08-04T06:09:16.747662Z",
     "iopub.status.idle": "2021-08-04T06:09:16.894357Z",
     "shell.execute_reply": "2021-08-04T06:09:16.893836Z",
     "shell.execute_reply.started": "2021-08-04T05:27:58.313868Z"
    },
    "papermill": {
     "duration": 0.173605,
     "end_time": "2021-08-04T06:09:16.894527",
     "exception": false,
     "start_time": "2021-08-04T06:09:16.720922",
     "status": "completed"
    },
    "tags": []
   },
   "outputs": [
    {
     "name": "stdout",
     "output_type": "stream",
     "text": [
      "Setup complete! You're ready to start question 0.\n"
     ]
    }
   ],
   "source": [
    "from learntools.core import binder; binder.bind(globals())\n",
    "from learntools.python.ex1 import *\n",
    "print(\"Setup complete! You're ready to start question 0.\")"
   ]
  },
  {
   "cell_type": "markdown",
   "id": "4442a726",
   "metadata": {
    "papermill": {
     "duration": 0.021279,
     "end_time": "2021-08-04T06:09:16.936977",
     "exception": false,
     "start_time": "2021-08-04T06:09:16.915698",
     "status": "completed"
    },
    "tags": []
   },
   "source": [
    "# 0.\n",
    "\n",
    "*This is a silly question intended as an introduction to the format we use for hands-on exercises throughout all Kaggle courses.*\n",
    "\n",
    "**What is your favorite color? **\n",
    "\n",
    "To complete this question, create a variable called `color` in the cell below with an appropriate value. The function call `q0.check()` (which we've already provided in the cell below) will check your answer."
   ]
  },
  {
   "cell_type": "code",
   "execution_count": 3,
   "id": "0db924a3",
   "metadata": {
    "execution": {
     "iopub.execute_input": "2021-08-04T06:09:16.988830Z",
     "iopub.status.busy": "2021-08-04T06:09:16.987993Z",
     "iopub.status.idle": "2021-08-04T06:09:16.995289Z",
     "shell.execute_reply": "2021-08-04T06:09:16.994702Z",
     "shell.execute_reply.started": "2021-08-04T05:29:36.026533Z"
    },
    "papermill": {
     "duration": 0.037008,
     "end_time": "2021-08-04T06:09:16.995455",
     "exception": false,
     "start_time": "2021-08-04T06:09:16.958447",
     "status": "completed"
    },
    "tags": []
   },
   "outputs": [
    {
     "data": {
      "application/javascript": [
       "parent.postMessage({\"jupyterEvent\": \"custom.exercise_interaction\", \"data\": {\"outcomeType\": 1, \"valueTowardsCompletion\": 0.25, \"interactionType\": 1, \"questionType\": 2, \"questionId\": \"0_ExerciseFormatTutorial\", \"learnToolsVersion\": \"0.3.4\", \"failureMessage\": \"\", \"exceptionClass\": \"\", \"trace\": \"\"}}, \"*\")"
      ],
      "text/plain": [
       "<IPython.core.display.Javascript object>"
      ]
     },
     "metadata": {},
     "output_type": "display_data"
    },
    {
     "data": {
      "text/markdown": [
       "<span style=\"color:#33cc33\">Correct:</span> What?! You got it right without needing a hint or anything? Drats. Well hey, you should still continue to the next step to get some practice asking for a hint and checking solutions. (Even though you obviously don't need any help here.)"
      ],
      "text/plain": [
       "Correct: What?! You got it right without needing a hint or anything? Drats. Well hey, you should still continue to the next step to get some practice asking for a hint and checking solutions. (Even though you obviously don't need any help here.)"
      ]
     },
     "metadata": {},
     "output_type": "display_data"
    }
   ],
   "source": [
    "# create a variable called color with an appropriate value on the line below\n",
    "# (Remember, strings in Python must be enclosed in 'single' or \"double\" quotes)\n",
    "____\n",
    "color = 'blue'\n",
    "# Check your answer\n",
    "q0.check()"
   ]
  },
  {
   "cell_type": "markdown",
   "id": "b240d572",
   "metadata": {
    "papermill": {
     "duration": 0.02242,
     "end_time": "2021-08-04T06:09:17.040734",
     "exception": false,
     "start_time": "2021-08-04T06:09:17.018314",
     "status": "completed"
    },
    "tags": []
   },
   "source": [
    "Didn't get the right answer? How do you not even know your own favorite color?!\n",
    "\n",
    "Delete the `#` in the line below to make one of the lines run. You can choose between getting a hint or the full answer by choosing which line to remove the `#` from. \n",
    "\n",
    "Removing the `#` is called uncommenting, because it changes that line from a \"comment\" which Python doesn't run to code, which Python does run."
   ]
  },
  {
   "cell_type": "code",
   "execution_count": 4,
   "id": "c94eb5f0",
   "metadata": {
    "execution": {
     "iopub.execute_input": "2021-08-04T06:09:17.089889Z",
     "iopub.status.busy": "2021-08-04T06:09:17.089191Z",
     "iopub.status.idle": "2021-08-04T06:09:17.101918Z",
     "shell.execute_reply": "2021-08-04T06:09:17.101233Z",
     "shell.execute_reply.started": "2021-08-04T05:30:09.238607Z"
    },
    "papermill": {
     "duration": 0.038448,
     "end_time": "2021-08-04T06:09:17.102085",
     "exception": false,
     "start_time": "2021-08-04T06:09:17.063637",
     "status": "completed"
    },
    "tags": []
   },
   "outputs": [
    {
     "data": {
      "application/javascript": [
       "parent.postMessage({\"jupyterEvent\": \"custom.exercise_interaction\", \"data\": {\"interactionType\": 2, \"questionType\": 2, \"questionId\": \"0_ExerciseFormatTutorial\", \"learnToolsVersion\": \"0.3.4\", \"valueTowardsCompletion\": 0.0, \"failureMessage\": \"\", \"exceptionClass\": \"\", \"trace\": \"\", \"outcomeType\": 4}}, \"*\")"
      ],
      "text/plain": [
       "<IPython.core.display.Javascript object>"
      ]
     },
     "metadata": {},
     "output_type": "display_data"
    },
    {
     "data": {
      "text/markdown": [
       "<span style=\"color:#3366cc\">Hint:</span> Your favorite color rhymes with *glue*."
      ],
      "text/plain": [
       "Hint: Your favorite color rhymes with *glue*."
      ]
     },
     "metadata": {},
     "output_type": "display_data"
    },
    {
     "data": {
      "application/javascript": [
       "parent.postMessage({\"jupyterEvent\": \"custom.exercise_interaction\", \"data\": {\"interactionType\": 3, \"questionType\": 2, \"questionId\": \"0_ExerciseFormatTutorial\", \"learnToolsVersion\": \"0.3.4\", \"valueTowardsCompletion\": 0.0, \"failureMessage\": \"\", \"exceptionClass\": \"\", \"trace\": \"\", \"outcomeType\": 4}}, \"*\")"
      ],
      "text/plain": [
       "<IPython.core.display.Javascript object>"
      ]
     },
     "metadata": {},
     "output_type": "display_data"
    },
    {
     "data": {
      "text/markdown": [
       "<span style=\"color:#33cc99\">Solution:</span> \n",
       "```python\n",
       "color = \"blue\"\n",
       "```"
      ],
      "text/plain": [
       "Solution: \n",
       "```python\n",
       "color = \"blue\"\n",
       "```"
      ]
     },
     "metadata": {},
     "output_type": "display_data"
    }
   ],
   "source": [
    "q0.hint()\n",
    "q0.solution()"
   ]
  },
  {
   "cell_type": "markdown",
   "id": "01bf57fb",
   "metadata": {
    "papermill": {
     "duration": 0.024099,
     "end_time": "2021-08-04T06:09:17.150989",
     "exception": false,
     "start_time": "2021-08-04T06:09:17.126890",
     "status": "completed"
    },
    "tags": []
   },
   "source": [
    "The upcoming questions work the same way. The only thing that will change are the question numbers. For the next question, you'll call `q1.check()`, `q1.hint()`, `q1.solution()`, for question 2, you'll call `q2.check()`, and so on."
   ]
  },
  {
   "cell_type": "markdown",
   "id": "7585e99e",
   "metadata": {
    "papermill": {
     "duration": 0.024129,
     "end_time": "2021-08-04T06:09:17.200761",
     "exception": false,
     "start_time": "2021-08-04T06:09:17.176632",
     "status": "completed"
    },
    "tags": []
   },
   "source": [
    "<hr/>\n",
    "\n",
    "# 1.\n",
    "\n",
    "Complete the code below. In case it's helpful, here is the table of available arithmetic operations:\n",
    "\n",
    "\n",
    "\n",
    "| Operator     | Name           | Description                                            |\n",
    "|--------------|----------------|--------------------------------------------------------|\n",
    "| ``a + b``    | Addition       | Sum of ``a`` and ``b``                                 |\n",
    "| ``a - b``    | Subtraction    | Difference of ``a`` and ``b``                          |\n",
    "| ``a * b``    | Multiplication | Product of ``a`` and ``b``                             |\n",
    "| ``a / b``    | True division  | Quotient of ``a`` and ``b``                            |\n",
    "| ``a // b``   | Floor division | Quotient of ``a`` and ``b``, removing fractional parts |\n",
    "| ``a % b``    | Modulus        | Integer remainder after division of ``a`` by ``b``     |\n",
    "| ``a ** b``   | Exponentiation | ``a`` raised to the power of ``b``                     |\n",
    "| ``-a``       | Negation       | The negative of ``a``                                  |\n",
    "\n",
    "<span style=\"display:none\"></span>\n"
   ]
  },
  {
   "cell_type": "code",
   "execution_count": 5,
   "id": "9c75f75a",
   "metadata": {
    "execution": {
     "iopub.execute_input": "2021-08-04T06:09:17.257530Z",
     "iopub.status.busy": "2021-08-04T06:09:17.256672Z",
     "iopub.status.idle": "2021-08-04T06:09:17.263267Z",
     "shell.execute_reply": "2021-08-04T06:09:17.262744Z",
     "shell.execute_reply.started": "2021-08-04T05:32:09.073078Z"
    },
    "papermill": {
     "duration": 0.037939,
     "end_time": "2021-08-04T06:09:17.263443",
     "exception": false,
     "start_time": "2021-08-04T06:09:17.225504",
     "status": "completed"
    },
    "tags": []
   },
   "outputs": [
    {
     "data": {
      "application/javascript": [
       "parent.postMessage({\"jupyterEvent\": \"custom.exercise_interaction\", \"data\": {\"outcomeType\": 1, \"valueTowardsCompletion\": 0.25, \"interactionType\": 1, \"questionType\": 1, \"questionId\": \"1_CircleArea\", \"learnToolsVersion\": \"0.3.4\", \"failureMessage\": \"\", \"exceptionClass\": \"\", \"trace\": \"\"}}, \"*\")"
      ],
      "text/plain": [
       "<IPython.core.display.Javascript object>"
      ]
     },
     "metadata": {},
     "output_type": "display_data"
    },
    {
     "data": {
      "text/markdown": [
       "<span style=\"color:#33cc33\">Correct</span>"
      ],
      "text/plain": [
       "Correct"
      ]
     },
     "metadata": {},
     "output_type": "display_data"
    }
   ],
   "source": [
    "pi = 3.14159 # approximate\n",
    "diameter = 3\n",
    "\n",
    "# Create a variable called 'radius' equal to half the diameter\n",
    "radius = diameter / 2\n",
    "____\n",
    "\n",
    "# Create a variable called 'area', using the formula for the area of a circle: pi times the radius squared\n",
    "area = pi * (radius ** 2)\n",
    "____\n",
    "\n",
    "# Check your answer\n",
    "q1.check()"
   ]
  },
  {
   "cell_type": "code",
   "execution_count": 6,
   "id": "22adaffe",
   "metadata": {
    "execution": {
     "iopub.execute_input": "2021-08-04T06:09:17.321620Z",
     "iopub.status.busy": "2021-08-04T06:09:17.320620Z",
     "iopub.status.idle": "2021-08-04T06:09:17.331558Z",
     "shell.execute_reply": "2021-08-04T06:09:17.330944Z",
     "shell.execute_reply.started": "2021-08-04T05:32:09.619870Z"
    },
    "papermill": {
     "duration": 0.041881,
     "end_time": "2021-08-04T06:09:17.331709",
     "exception": false,
     "start_time": "2021-08-04T06:09:17.289828",
     "status": "completed"
    },
    "tags": []
   },
   "outputs": [
    {
     "data": {
      "application/javascript": [
       "parent.postMessage({\"jupyterEvent\": \"custom.exercise_interaction\", \"data\": {\"interactionType\": 2, \"questionType\": 1, \"questionId\": \"1_CircleArea\", \"learnToolsVersion\": \"0.3.4\", \"valueTowardsCompletion\": 0.0, \"failureMessage\": \"\", \"exceptionClass\": \"\", \"trace\": \"\", \"outcomeType\": 4}}, \"*\")"
      ],
      "text/plain": [
       "<IPython.core.display.Javascript object>"
      ]
     },
     "metadata": {},
     "output_type": "display_data"
    },
    {
     "data": {
      "text/markdown": [
       "<span style=\"color:#3366cc\">Hint:</span> The syntax to raise a to the b'th power is `a ** b`"
      ],
      "text/plain": [
       "Hint: The syntax to raise a to the b'th power is `a ** b`"
      ]
     },
     "metadata": {},
     "output_type": "display_data"
    },
    {
     "data": {
      "application/javascript": [
       "parent.postMessage({\"jupyterEvent\": \"custom.exercise_interaction\", \"data\": {\"interactionType\": 3, \"questionType\": 1, \"questionId\": \"1_CircleArea\", \"learnToolsVersion\": \"0.3.4\", \"valueTowardsCompletion\": 0.0, \"failureMessage\": \"\", \"exceptionClass\": \"\", \"trace\": \"\", \"outcomeType\": 4}}, \"*\")"
      ],
      "text/plain": [
       "<IPython.core.display.Javascript object>"
      ]
     },
     "metadata": {},
     "output_type": "display_data"
    },
    {
     "data": {
      "text/markdown": [
       "<span style=\"color:#33cc99\">Solution:</span> \n",
       "```python\n",
       "radius = diameter / 2\n",
       "area = pi * radius ** 2\n",
       "```"
      ],
      "text/plain": [
       "Solution: \n",
       "```python\n",
       "radius = diameter / 2\n",
       "area = pi * radius ** 2\n",
       "```"
      ]
     },
     "metadata": {},
     "output_type": "display_data"
    }
   ],
   "source": [
    "# Uncomment and run the lines below if you need help.\n",
    "q1.hint()\n",
    "q1.solution()"
   ]
  },
  {
   "cell_type": "markdown",
   "id": "15dd2cb5",
   "metadata": {
    "papermill": {
     "duration": 0.026508,
     "end_time": "2021-08-04T06:09:17.385965",
     "exception": false,
     "start_time": "2021-08-04T06:09:17.359457",
     "status": "completed"
    },
    "tags": []
   },
   "source": [
    "<hr/>\n",
    "\n",
    "# 2.\n",
    "\n",
    "Add code to the following cell to swap variables `a` and `b` (so that `a` refers to the object previously referred to by `b` and vice versa)."
   ]
  },
  {
   "cell_type": "code",
   "execution_count": 7,
   "id": "ff3a204a",
   "metadata": {
    "execution": {
     "iopub.execute_input": "2021-08-04T06:09:17.446890Z",
     "iopub.status.busy": "2021-08-04T06:09:17.446104Z",
     "iopub.status.idle": "2021-08-04T06:09:17.451703Z",
     "shell.execute_reply": "2021-08-04T06:09:17.452192Z",
     "shell.execute_reply.started": "2021-08-04T05:33:50.868053Z"
    },
    "papermill": {
     "duration": 0.039434,
     "end_time": "2021-08-04T06:09:17.452363",
     "exception": false,
     "start_time": "2021-08-04T06:09:17.412929",
     "status": "completed"
    },
    "tags": []
   },
   "outputs": [
    {
     "data": {
      "application/javascript": [
       "parent.postMessage({\"jupyterEvent\": \"custom.exercise_interaction\", \"data\": {\"outcomeType\": 1, \"valueTowardsCompletion\": 0.25, \"interactionType\": 1, \"questionType\": 2, \"questionId\": \"2_VariableSwap\", \"learnToolsVersion\": \"0.3.4\", \"failureMessage\": \"\", \"exceptionClass\": \"\", \"trace\": \"\"}}, \"*\")"
      ],
      "text/plain": [
       "<IPython.core.display.Javascript object>"
      ]
     },
     "metadata": {},
     "output_type": "display_data"
    },
    {
     "data": {
      "text/markdown": [
       "<span style=\"color:#33cc33\">Correct:</span> \n",
       "\n",
       "The most straightforward solution is to use a third variable to temporarily store one of the old values. e.g.:\n",
       "\n",
       "    tmp = a\n",
       "    a = b\n",
       "    b = tmp\n",
       "\n",
       "If you've read lots of Python code, you might have seen the following trick to swap two variables in one line:\n",
       "\n",
       "    a, b = b, a\n",
       "\n",
       "We'll demystify this bit of Python magic later when we talk about *tuples*."
      ],
      "text/plain": [
       "Correct: \n",
       "\n",
       "The most straightforward solution is to use a third variable to temporarily store one of the old values. e.g.:\n",
       "\n",
       "    tmp = a\n",
       "    a = b\n",
       "    b = tmp\n",
       "\n",
       "If you've read lots of Python code, you might have seen the following trick to swap two variables in one line:\n",
       "\n",
       "    a, b = b, a\n",
       "\n",
       "We'll demystify this bit of Python magic later when we talk about *tuples*."
      ]
     },
     "metadata": {},
     "output_type": "display_data"
    }
   ],
   "source": [
    "########### Setup code - don't touch this part ######################\n",
    "# If you're curious, these are examples of lists. We'll talk about \n",
    "# them in depth a few lessons from now. For now, just know that they're\n",
    "# yet another type of Python object, like int or float.\n",
    "a = [1, 2, 3]\n",
    "b = [3, 2, 1]\n",
    "q2.store_original_ids()\n",
    "######################################################################\n",
    "\n",
    "# Your code goes here. Swap the values to which a and b refer.\n",
    "# If you get stuck, you can always uncomment one or both of the lines in\n",
    "# the next cell for a hint, or to peek at the solution.\n",
    "\n",
    "temp = a\n",
    "a = b\n",
    "b = temp\n",
    "######################################################################\n",
    "\n",
    "# Check your answer\n",
    "q2.check()"
   ]
  },
  {
   "cell_type": "code",
   "execution_count": 8,
   "id": "e1e7362f",
   "metadata": {
    "execution": {
     "iopub.execute_input": "2021-08-04T06:09:17.512769Z",
     "iopub.status.busy": "2021-08-04T06:09:17.512076Z",
     "iopub.status.idle": "2021-08-04T06:09:17.517875Z",
     "shell.execute_reply": "2021-08-04T06:09:17.518393Z",
     "shell.execute_reply.started": "2021-08-04T05:34:20.568334Z"
    },
    "papermill": {
     "duration": 0.038224,
     "end_time": "2021-08-04T06:09:17.518577",
     "exception": false,
     "start_time": "2021-08-04T06:09:17.480353",
     "status": "completed"
    },
    "tags": []
   },
   "outputs": [
    {
     "data": {
      "application/javascript": [
       "parent.postMessage({\"jupyterEvent\": \"custom.exercise_interaction\", \"data\": {\"interactionType\": 2, \"questionType\": 2, \"questionId\": \"2_VariableSwap\", \"learnToolsVersion\": \"0.3.4\", \"valueTowardsCompletion\": 0.0, \"failureMessage\": \"\", \"exceptionClass\": \"\", \"trace\": \"\", \"outcomeType\": 4}}, \"*\")"
      ],
      "text/plain": [
       "<IPython.core.display.Javascript object>"
      ]
     },
     "metadata": {},
     "output_type": "display_data"
    },
    {
     "data": {
      "text/markdown": [
       "<span style=\"color:#3366cc\">Hint:</span> Try using a third variable."
      ],
      "text/plain": [
       "Hint: Try using a third variable."
      ]
     },
     "metadata": {},
     "output_type": "display_data"
    }
   ],
   "source": [
    "q2.hint()"
   ]
  },
  {
   "cell_type": "code",
   "execution_count": 9,
   "id": "5daad02d",
   "metadata": {
    "execution": {
     "iopub.execute_input": "2021-08-04T06:09:17.579381Z",
     "iopub.status.busy": "2021-08-04T06:09:17.578736Z",
     "iopub.status.idle": "2021-08-04T06:09:17.586340Z",
     "shell.execute_reply": "2021-08-04T06:09:17.586956Z",
     "shell.execute_reply.started": "2021-08-04T05:34:31.706953Z"
    },
    "papermill": {
     "duration": 0.039523,
     "end_time": "2021-08-04T06:09:17.587127",
     "exception": false,
     "start_time": "2021-08-04T06:09:17.547604",
     "status": "completed"
    },
    "tags": []
   },
   "outputs": [
    {
     "data": {
      "application/javascript": [
       "parent.postMessage({\"jupyterEvent\": \"custom.exercise_interaction\", \"data\": {\"interactionType\": 3, \"questionType\": 2, \"questionId\": \"2_VariableSwap\", \"learnToolsVersion\": \"0.3.4\", \"valueTowardsCompletion\": 0.0, \"failureMessage\": \"\", \"exceptionClass\": \"\", \"trace\": \"\", \"outcomeType\": 4}}, \"*\")"
      ],
      "text/plain": [
       "<IPython.core.display.Javascript object>"
      ]
     },
     "metadata": {},
     "output_type": "display_data"
    },
    {
     "data": {
      "text/markdown": [
       "<span style=\"color:#33cc99\">Solution:</span> The most straightforward solution is to use a third variable to temporarily store one of the old values. e.g.:\n",
       "\n",
       "    tmp = a\n",
       "    a = b\n",
       "    b = tmp\n",
       "\n",
       "If you've read lots of Python code, you might have seen the following trick to swap two variables in one line:\n",
       "\n",
       "    a, b = b, a\n",
       "\n",
       "We'll demystify this bit of Python magic later when we talk about *tuples*."
      ],
      "text/plain": [
       "Solution: The most straightforward solution is to use a third variable to temporarily store one of the old values. e.g.:\n",
       "\n",
       "    tmp = a\n",
       "    a = b\n",
       "    b = tmp\n",
       "\n",
       "If you've read lots of Python code, you might have seen the following trick to swap two variables in one line:\n",
       "\n",
       "    a, b = b, a\n",
       "\n",
       "We'll demystify this bit of Python magic later when we talk about *tuples*."
      ]
     },
     "metadata": {},
     "output_type": "display_data"
    }
   ],
   "source": [
    "q2.solution()"
   ]
  },
  {
   "cell_type": "markdown",
   "id": "cf949f38",
   "metadata": {
    "papermill": {
     "duration": 0.029456,
     "end_time": "2021-08-04T06:09:17.648083",
     "exception": false,
     "start_time": "2021-08-04T06:09:17.618627",
     "status": "completed"
    },
    "tags": []
   },
   "source": [
    "<hr/>\n",
    "\n",
    "# 3a.\n",
    "\n",
    "Add parentheses to the following expression so that it evaluates to 1."
   ]
  },
  {
   "cell_type": "code",
   "execution_count": 10,
   "id": "ef9447bd",
   "metadata": {
    "execution": {
     "iopub.execute_input": "2021-08-04T06:09:17.711078Z",
     "iopub.status.busy": "2021-08-04T06:09:17.710472Z",
     "iopub.status.idle": "2021-08-04T06:09:17.716135Z",
     "shell.execute_reply": "2021-08-04T06:09:17.716664Z",
     "shell.execute_reply.started": "2021-08-04T05:34:52.681189Z"
    },
    "papermill": {
     "duration": 0.038886,
     "end_time": "2021-08-04T06:09:17.716833",
     "exception": false,
     "start_time": "2021-08-04T06:09:17.677947",
     "status": "completed"
    },
    "tags": []
   },
   "outputs": [
    {
     "data": {
      "text/plain": [
       "1"
      ]
     },
     "execution_count": 10,
     "metadata": {},
     "output_type": "execute_result"
    }
   ],
   "source": [
    "(5 - 3) // 2"
   ]
  },
  {
   "cell_type": "code",
   "execution_count": 11,
   "id": "2160cc00",
   "metadata": {
    "execution": {
     "iopub.execute_input": "2021-08-04T06:09:17.781214Z",
     "iopub.status.busy": "2021-08-04T06:09:17.780550Z",
     "iopub.status.idle": "2021-08-04T06:09:17.787316Z",
     "shell.execute_reply": "2021-08-04T06:09:17.787864Z",
     "shell.execute_reply.started": "2021-08-04T05:34:56.620617Z"
    },
    "papermill": {
     "duration": 0.040395,
     "end_time": "2021-08-04T06:09:17.788048",
     "exception": false,
     "start_time": "2021-08-04T06:09:17.747653",
     "status": "completed"
    },
    "tags": []
   },
   "outputs": [
    {
     "data": {
      "application/javascript": [
       "parent.postMessage({\"jupyterEvent\": \"custom.exercise_interaction\", \"data\": {\"interactionType\": 2, \"questionType\": 4, \"questionId\": \"3.1_ArithmeticParensEasy\", \"learnToolsVersion\": \"0.3.4\", \"valueTowardsCompletion\": 0.0, \"failureMessage\": \"\", \"exceptionClass\": \"\", \"trace\": \"\", \"outcomeType\": 4}}, \"*\")"
      ],
      "text/plain": [
       "<IPython.core.display.Javascript object>"
      ]
     },
     "metadata": {},
     "output_type": "display_data"
    },
    {
     "data": {
      "text/markdown": [
       "<span style=\"color:#3366cc\">Hint:</span> Following its default \"BEDMAS\"-like rules for order of operations, Python will first divide 3 by 2, then subtract the result from 5. You need to add parentheses to force it to perform the subtraction first."
      ],
      "text/plain": [
       "Hint: Following its default \"BEDMAS\"-like rules for order of operations, Python will first divide 3 by 2, then subtract the result from 5. You need to add parentheses to force it to perform the subtraction first."
      ]
     },
     "metadata": {},
     "output_type": "display_data"
    }
   ],
   "source": [
    "q3.a.hint()"
   ]
  },
  {
   "cell_type": "code",
   "execution_count": 12,
   "id": "057d116b",
   "metadata": {
    "execution": {
     "iopub.execute_input": "2021-08-04T06:09:17.854596Z",
     "iopub.status.busy": "2021-08-04T06:09:17.853893Z",
     "iopub.status.idle": "2021-08-04T06:09:17.860278Z",
     "shell.execute_reply": "2021-08-04T06:09:17.860829Z",
     "shell.execute_reply.started": "2021-08-04T05:58:33.771854Z"
    },
    "papermill": {
     "duration": 0.041171,
     "end_time": "2021-08-04T06:09:17.861018",
     "exception": false,
     "start_time": "2021-08-04T06:09:17.819847",
     "status": "completed"
    },
    "tags": []
   },
   "outputs": [
    {
     "data": {
      "application/javascript": [
       "parent.postMessage({\"jupyterEvent\": \"custom.exercise_interaction\", \"data\": {\"interactionType\": 3, \"questionType\": 4, \"questionId\": \"3.1_ArithmeticParensEasy\", \"learnToolsVersion\": \"0.3.4\", \"valueTowardsCompletion\": 0.0, \"failureMessage\": \"\", \"exceptionClass\": \"\", \"trace\": \"\", \"outcomeType\": 4}}, \"*\")"
      ],
      "text/plain": [
       "<IPython.core.display.Javascript object>"
      ]
     },
     "metadata": {},
     "output_type": "display_data"
    },
    {
     "data": {
      "text/markdown": [
       "<span style=\"color:#33cc99\">Solution:</span> \n",
       "```python\n",
       "(5 - 3) // 2\n",
       "```"
      ],
      "text/plain": [
       "Solution: \n",
       "```python\n",
       "(5 - 3) // 2\n",
       "```"
      ]
     },
     "metadata": {},
     "output_type": "display_data"
    }
   ],
   "source": [
    "# Check your answer (Run this code cell to receive credit!)\n",
    "q3.a.solution()"
   ]
  },
  {
   "cell_type": "markdown",
   "id": "f659dfd4",
   "metadata": {
    "papermill": {
     "duration": 0.032471,
     "end_time": "2021-08-04T06:09:17.926330",
     "exception": false,
     "start_time": "2021-08-04T06:09:17.893859",
     "status": "completed"
    },
    "tags": []
   },
   "source": [
    "# 3b.  <span title=\"A bit spicy\" style=\"color: darkgreen \">🌶️</span>\n",
    "\n",
    "<small>Questions, like this one, marked a spicy pepper are a bit harder.</small>\n",
    "\n",
    "Add parentheses to the following expression so that it evaluates to 0."
   ]
  },
  {
   "cell_type": "code",
   "execution_count": 13,
   "id": "342caba5",
   "metadata": {
    "execution": {
     "iopub.execute_input": "2021-08-04T06:09:17.997157Z",
     "iopub.status.busy": "2021-08-04T06:09:17.996520Z",
     "iopub.status.idle": "2021-08-04T06:09:18.002026Z",
     "shell.execute_reply": "2021-08-04T06:09:18.002617Z",
     "shell.execute_reply.started": "2021-08-04T05:58:57.960801Z"
    },
    "papermill": {
     "duration": 0.043323,
     "end_time": "2021-08-04T06:09:18.002813",
     "exception": false,
     "start_time": "2021-08-04T06:09:17.959490",
     "status": "completed"
    },
    "tags": []
   },
   "outputs": [
    {
     "data": {
      "text/plain": [
       "0"
      ]
     },
     "execution_count": 13,
     "metadata": {},
     "output_type": "execute_result"
    }
   ],
   "source": [
    "8 - (3 * 2) - (1 + 1)"
   ]
  },
  {
   "cell_type": "code",
   "execution_count": 14,
   "id": "93c0a1e8",
   "metadata": {
    "execution": {
     "iopub.execute_input": "2021-08-04T06:09:18.076223Z",
     "iopub.status.busy": "2021-08-04T06:09:18.075524Z",
     "iopub.status.idle": "2021-08-04T06:09:18.081021Z",
     "shell.execute_reply": "2021-08-04T06:09:18.081506Z",
     "shell.execute_reply.started": "2021-08-04T05:59:02.429165Z"
    },
    "papermill": {
     "duration": 0.04507,
     "end_time": "2021-08-04T06:09:18.081682",
     "exception": false,
     "start_time": "2021-08-04T06:09:18.036612",
     "status": "completed"
    },
    "tags": []
   },
   "outputs": [
    {
     "data": {
      "application/javascript": [
       "parent.postMessage({\"jupyterEvent\": \"custom.exercise_interaction\", \"data\": {\"interactionType\": 2, \"questionType\": 4, \"questionId\": \"3.2_ArithmeticParensHard\", \"learnToolsVersion\": \"0.3.4\", \"valueTowardsCompletion\": 0.0, \"failureMessage\": \"\", \"exceptionClass\": \"\", \"trace\": \"\", \"outcomeType\": 4}}, \"*\")"
      ],
      "text/plain": [
       "<IPython.core.display.Javascript object>"
      ]
     },
     "metadata": {},
     "output_type": "display_data"
    },
    {
     "data": {
      "text/markdown": [
       "<span style=\"color:#3366cc\">Hint:</span> You may need to use several pairs of parentheses."
      ],
      "text/plain": [
       "Hint: You may need to use several pairs of parentheses."
      ]
     },
     "metadata": {},
     "output_type": "display_data"
    }
   ],
   "source": [
    "q3.b.hint()"
   ]
  },
  {
   "cell_type": "code",
   "execution_count": 15,
   "id": "8aeae1d2",
   "metadata": {
    "execution": {
     "iopub.execute_input": "2021-08-04T06:09:18.152032Z",
     "iopub.status.busy": "2021-08-04T06:09:18.151060Z",
     "iopub.status.idle": "2021-08-04T06:09:18.158084Z",
     "shell.execute_reply": "2021-08-04T06:09:18.158571Z",
     "shell.execute_reply.started": "2021-08-04T05:59:06.531386Z"
    },
    "papermill": {
     "duration": 0.043756,
     "end_time": "2021-08-04T06:09:18.158747",
     "exception": false,
     "start_time": "2021-08-04T06:09:18.114991",
     "status": "completed"
    },
    "tags": []
   },
   "outputs": [
    {
     "data": {
      "application/javascript": [
       "parent.postMessage({\"jupyterEvent\": \"custom.exercise_interaction\", \"data\": {\"interactionType\": 3, \"questionType\": 4, \"questionId\": \"3.2_ArithmeticParensHard\", \"learnToolsVersion\": \"0.3.4\", \"valueTowardsCompletion\": 0.0, \"failureMessage\": \"\", \"exceptionClass\": \"\", \"trace\": \"\", \"outcomeType\": 4}}, \"*\")"
      ],
      "text/plain": [
       "<IPython.core.display.Javascript object>"
      ]
     },
     "metadata": {},
     "output_type": "display_data"
    },
    {
     "data": {
      "text/markdown": [
       "<span style=\"color:#33cc99\">Solution:</span> `(8 - 3) * (2 - (1 + 1))` is one solution. There may be others."
      ],
      "text/plain": [
       "Solution: `(8 - 3) * (2 - (1 + 1))` is one solution. There may be others."
      ]
     },
     "metadata": {},
     "output_type": "display_data"
    }
   ],
   "source": [
    "# Check your answer (Run this code cell to receive credit!)\n",
    "q3.b.solution()"
   ]
  },
  {
   "cell_type": "markdown",
   "id": "a0e9faab",
   "metadata": {
    "papermill": {
     "duration": 0.033873,
     "end_time": "2021-08-04T06:09:18.226911",
     "exception": false,
     "start_time": "2021-08-04T06:09:18.193038",
     "status": "completed"
    },
    "tags": []
   },
   "source": [
    "<hr/>\n",
    "\n",
    "# 4. \n",
    "Alice, Bob and Carol have agreed to pool their Halloween candy and split it evenly among themselves.\n",
    "For the sake of their friendship, any candies left over will be smashed. For example, if they collectively\n",
    "bring home 91 candies, they'll take 30 each and smash 1.\n",
    "\n",
    "Write an arithmetic expression below to calculate how many candies they must smash for a given haul."
   ]
  },
  {
   "cell_type": "code",
   "execution_count": 16,
   "id": "a9c73037",
   "metadata": {
    "execution": {
     "iopub.execute_input": "2021-08-04T06:09:18.299058Z",
     "iopub.status.busy": "2021-08-04T06:09:18.298052Z",
     "iopub.status.idle": "2021-08-04T06:09:18.307277Z",
     "shell.execute_reply": "2021-08-04T06:09:18.306623Z",
     "shell.execute_reply.started": "2021-08-04T06:08:05.249610Z"
    },
    "papermill": {
     "duration": 0.046301,
     "end_time": "2021-08-04T06:09:18.307436",
     "exception": false,
     "start_time": "2021-08-04T06:09:18.261135",
     "status": "completed"
    },
    "tags": []
   },
   "outputs": [
    {
     "data": {
      "application/javascript": [
       "parent.postMessage({\"jupyterEvent\": \"custom.exercise_interaction\", \"data\": {\"outcomeType\": 1, \"valueTowardsCompletion\": 0.25, \"interactionType\": 1, \"questionType\": 1, \"questionId\": \"4_CandySplitting\", \"learnToolsVersion\": \"0.3.4\", \"failureMessage\": \"\", \"exceptionClass\": \"\", \"trace\": \"\"}}, \"*\")"
      ],
      "text/plain": [
       "<IPython.core.display.Javascript object>"
      ]
     },
     "metadata": {},
     "output_type": "display_data"
    },
    {
     "data": {
      "text/markdown": [
       "<span style=\"color:#33cc33\">Correct</span>"
      ],
      "text/plain": [
       "Correct"
      ]
     },
     "metadata": {},
     "output_type": "display_data"
    }
   ],
   "source": [
    "# Variables representing the number of candies collected by alice, bob, and carol\n",
    "alice_candies = 121\n",
    "bob_candies = 77\n",
    "carol_candies = 109\n",
    "\n",
    "# Your code goes here! Replace the right-hand side of this assignment with an expression\n",
    "# involving alice_candies, bob_candies, and carol_candies\n",
    "to_smash = (alice_candies+bob_candies+carol_candies) % 3\n",
    "\n",
    "# Check your answer\n",
    "q4.check()"
   ]
  },
  {
   "cell_type": "code",
   "execution_count": 17,
   "id": "223819a6",
   "metadata": {
    "execution": {
     "iopub.execute_input": "2021-08-04T06:09:18.386703Z",
     "iopub.status.busy": "2021-08-04T06:09:18.385625Z",
     "iopub.status.idle": "2021-08-04T06:09:18.395586Z",
     "shell.execute_reply": "2021-08-04T06:09:18.396222Z",
     "shell.execute_reply.started": "2021-08-04T06:08:10.417071Z"
    },
    "papermill": {
     "duration": 0.053355,
     "end_time": "2021-08-04T06:09:18.396447",
     "exception": false,
     "start_time": "2021-08-04T06:09:18.343092",
     "status": "completed"
    },
    "tags": []
   },
   "outputs": [
    {
     "data": {
      "application/javascript": [
       "parent.postMessage({\"jupyterEvent\": \"custom.exercise_interaction\", \"data\": {\"interactionType\": 2, \"questionType\": 1, \"questionId\": \"4_CandySplitting\", \"learnToolsVersion\": \"0.3.4\", \"valueTowardsCompletion\": 0.0, \"failureMessage\": \"\", \"exceptionClass\": \"\", \"trace\": \"\", \"outcomeType\": 4}}, \"*\")"
      ],
      "text/plain": [
       "<IPython.core.display.Javascript object>"
      ]
     },
     "metadata": {},
     "output_type": "display_data"
    },
    {
     "data": {
      "text/markdown": [
       "<span style=\"color:#3366cc\">Hint 1:</span> You'll probably want to use the modulo operator, `%`.\n",
       "(For another hint, call `.hint(2)`)"
      ],
      "text/plain": [
       "Hint 1: You'll probably want to use the modulo operator, `%`.\n",
       "(For another hint, call `.hint(2)`)"
      ]
     },
     "metadata": {},
     "output_type": "display_data"
    },
    {
     "data": {
      "application/javascript": [
       "parent.postMessage({\"jupyterEvent\": \"custom.exercise_interaction\", \"data\": {\"interactionType\": 3, \"questionType\": 1, \"questionId\": \"4_CandySplitting\", \"learnToolsVersion\": \"0.3.4\", \"valueTowardsCompletion\": 0.0, \"failureMessage\": \"\", \"exceptionClass\": \"\", \"trace\": \"\", \"outcomeType\": 4}}, \"*\")"
      ],
      "text/plain": [
       "<IPython.core.display.Javascript object>"
      ]
     },
     "metadata": {},
     "output_type": "display_data"
    },
    {
     "data": {
      "text/markdown": [
       "<span style=\"color:#33cc99\">Solution:</span> \n",
       "```python\n",
       "(alice_candies + bob_candies + carol_candies) % 3\n",
       "```"
      ],
      "text/plain": [
       "Solution: \n",
       "```python\n",
       "(alice_candies + bob_candies + carol_candies) % 3\n",
       "```"
      ]
     },
     "metadata": {},
     "output_type": "display_data"
    }
   ],
   "source": [
    "q4.hint()\n",
    "q4.solution()"
   ]
  },
  {
   "cell_type": "markdown",
   "id": "b723d505",
   "metadata": {
    "papermill": {
     "duration": 0.036817,
     "end_time": "2021-08-04T06:09:18.474367",
     "exception": false,
     "start_time": "2021-08-04T06:09:18.437550",
     "status": "completed"
    },
    "tags": []
   },
   "source": [
    "# Keep Going\n",
    "\n",
    "Next up, you'll **[learn to write new functions and understand functions others write](https://www.kaggle.com/colinmorris/functions-and-getting-help)**. This will make you at least 10 times more productive as a Python programmer. "
   ]
  },
  {
   "cell_type": "markdown",
   "id": "ab168670",
   "metadata": {
    "papermill": {
     "duration": 0.03697,
     "end_time": "2021-08-04T06:09:18.548727",
     "exception": false,
     "start_time": "2021-08-04T06:09:18.511757",
     "status": "completed"
    },
    "tags": []
   },
   "source": [
    "---\n",
    "\n",
    "\n",
    "\n",
    "\n",
    "*Have questions or comments? Visit the [Learn Discussion forum](https://www.kaggle.com/learn-forum/161283) to chat with other Learners.*"
   ]
  }
 ],
 "metadata": {
  "kernelspec": {
   "display_name": "Python 3",
   "language": "python",
   "name": "python3"
  },
  "language_info": {
   "codemirror_mode": {
    "name": "ipython",
    "version": 3
   },
   "file_extension": ".py",
   "mimetype": "text/x-python",
   "name": "python",
   "nbconvert_exporter": "python",
   "pygments_lexer": "ipython3",
   "version": "3.7.10"
  },
  "papermill": {
   "default_parameters": {},
   "duration": 11.566951,
   "end_time": "2021-08-04T06:09:19.297955",
   "environment_variables": {},
   "exception": null,
   "input_path": "__notebook__.ipynb",
   "output_path": "__notebook__.ipynb",
   "parameters": {},
   "start_time": "2021-08-04T06:09:07.731004",
   "version": "2.3.3"
  }
 },
 "nbformat": 4,
 "nbformat_minor": 5
}
